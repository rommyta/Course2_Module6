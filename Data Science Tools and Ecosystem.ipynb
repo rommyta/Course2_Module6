{
 "cells": [
  {
   "cell_type": "markdown",
   "id": "f97a6656-5da6-4209-8c93-5d400559f628",
   "metadata": {},
   "source": [
    "# Data Science Tools and Ecosystem"
   ]
  },
  {
   "cell_type": "markdown",
   "id": "3ff47aa4-4080-47a1-812b-bf5834abe7c7",
   "metadata": {},
   "source": [
    "In this notebook, Data Science Tools and Ecosystem are summarized "
   ]
  },
  {
   "cell_type": "markdown",
   "id": "2319fb02-289d-4cac-8072-471ba536eb34",
   "metadata": {},
   "source": [
    "**Objectives**\n",
    "- List popular languages for Data Science\n",
    "- List commonly used libraries used by Data Scientists\n",
    "- Demonstrate how to perform arthmetic expressions in Python"
   ]
  },
  {
   "cell_type": "markdown",
   "id": "5405a04b-e257-4c26-8788-a73c94abcaae",
   "metadata": {},
   "source": [
    "Some of the popular languages that Data Scientists use are:\n",
    "1. Python\n",
    "2. R\n",
    "3. C++\n",
    "4. SAS"
   ]
  },
  {
   "cell_type": "markdown",
   "id": "086cbda6-e20a-4231-8f27-d54acee957d2",
   "metadata": {},
   "source": [
    "Some of the commonly used libraries used by Data Scientists include:\n",
    "1. Pandas\n",
    "2. Numpy\n",
    "3. Scikit-learn\n",
    "4. Seaborn\n",
    "5. Matplotlib"
   ]
  },
  {
   "cell_type": "markdown",
   "id": "3c007c44-e9e6-4a1d-8a64-8644ed7716f0",
   "metadata": {},
   "source": [
    "|Data Science Tools|\n",
    "-------------------\n",
    "|Jupyter Notebook|\n",
    "|VS Code|\n",
    "|PyCharm|\n",
    "\n"
   ]
  },
  {
   "cell_type": "markdown",
   "id": "a709969e-0a69-40e4-9bc6-d0e9a89b4191",
   "metadata": {},
   "source": [
    "### Below are a few examples of evaluating arithmetic expressions in Python."
   ]
  },
  {
   "cell_type": "code",
   "execution_count": 3,
   "id": "d98b4ac0-c155-42f1-97b9-4e64cf39a855",
   "metadata": {},
   "outputs": [
    {
     "data": {
      "text/plain": [
       "17"
      ]
     },
     "execution_count": 3,
     "metadata": {},
     "output_type": "execute_result"
    }
   ],
   "source": [
    "#This a simple arithmetic expression to mutiply then add integers\n",
    "(3*4)+5"
   ]
  },
  {
   "cell_type": "code",
   "execution_count": 2,
   "id": "5e6bdb60-f7f4-4542-80e0-4120d8723bef",
   "metadata": {},
   "outputs": [
    {
     "data": {
      "text/plain": [
       "3.3333333333333335"
      ]
     },
     "execution_count": 2,
     "metadata": {},
     "output_type": "execute_result"
    }
   ],
   "source": [
    "#This will convert 200 minutes to hours by diving by 60\n",
    "200/60"
   ]
  },
  {
   "cell_type": "markdown",
   "id": "ff46e384-2375-4669-a54f-5291b250c282",
   "metadata": {},
   "source": [
    "## Author\n",
    "Rommy Coutelin Johnson"
   ]
  },
  {
   "cell_type": "code",
   "execution_count": null,
   "id": "5bf74cfd-93c0-4c55-b61e-42e70262c13a",
   "metadata": {},
   "outputs": [],
   "source": []
  }
 ],
 "metadata": {
  "kernelspec": {
   "display_name": "Python 3 (ipykernel)",
   "language": "python",
   "name": "python3"
  },
  "language_info": {
   "codemirror_mode": {
    "name": "ipython",
    "version": 3
   },
   "file_extension": ".py",
   "mimetype": "text/x-python",
   "name": "python",
   "nbconvert_exporter": "python",
   "pygments_lexer": "ipython3",
   "version": "3.11.7"
  }
 },
 "nbformat": 4,
 "nbformat_minor": 5
}
